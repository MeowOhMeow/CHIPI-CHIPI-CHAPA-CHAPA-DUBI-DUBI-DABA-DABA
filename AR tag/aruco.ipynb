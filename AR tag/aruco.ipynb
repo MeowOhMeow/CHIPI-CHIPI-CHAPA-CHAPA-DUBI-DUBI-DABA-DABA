{
 "cells": [
  {
   "cell_type": "markdown",
   "metadata": {},
   "source": [
    "# Install environment\n",
    "### you'll need [anaconda](https://www.anaconda.com/download)\n",
    "```bash\n",
    "conda create -n kibo python=3.11\n",
    "conda activate kibo\n",
    "# Install the ultralytics package from PyPI\n",
    "pip install opencv-python\n",
    "pip install matplotlib\n",
    "```\n",
    "\n",
    "### for detail version of opencv [click me](https://pypi.org/project/opencv-python/#history)"
   ]
  },
  {
   "cell_type": "markdown",
   "metadata": {},
   "source": [
    "# sample code of detect aruco marker in opencv-python 4.9.80"
   ]
  },
  {
   "cell_type": "code",
   "execution_count": 1,
   "metadata": {},
   "outputs": [
    {
     "data": {
      "text/plain": [
       "(-0.5, 525.5, 511.5, -0.5)"
      ]
     },
     "execution_count": 1,
     "metadata": {},
     "output_type": "execute_result"
    },
    {
     "data": {
      "image/png": "[encoded data removed]",
      "text/plain": [
       "<Figure size 640x480 with 1 Axes>"
      ]
     },
     "metadata": {},
     "output_type": "display_data"
    }
   ],
   "source": [
    "import cv2 as cv\n",
    "import cv2.aruco as aruco\n",
    "import numpy as np\n",
    "import matplotlib.pyplot as plt\n",
    "\n",
    "img = cv.imread(\"33.png\")\n",
    "\n",
    "marker_length = 0.05\n",
    "obj_points = np.array(\n",
    "    [\n",
    "        [-marker_length / 2, -marker_length / 2, 0],\n",
    "        [marker_length / 2, -marker_length / 2, 0],\n",
    "        [marker_length / 2, marker_length / 2, 0],\n",
    "        [-marker_length / 2, marker_length / 2, 0],\n",
    "    ]\n",
    ")\n",
    "cameraMatrix = np.array([[1.0, 0.0, 0.0], [0.0, 1.0, 0.0], [0.0, 0.0, 1.0]])\n",
    "distCoeffs = np.array([0.0, 0.0, 0.0, 0.0, 0.0])\n",
    "\n",
    "aruco_dict = aruco.getPredefinedDictionary(aruco.DICT_7X7_250)\n",
    "\n",
    "corners, ids, rejectedImgPoints = aruco.detectMarkers(img, aruco_dict)\n",
    "\n",
    "if ids is not None:\n",
    "    for i in range(len(ids)):\n",
    "        rvecs, tvecs, _ = aruco.estimatePoseSingleMarkers(\n",
    "            corners[i], marker_length, cameraMatrix, distCoeffs\n",
    "        )\n",
    "        aruco.drawAxis(img, cameraMatrix, distCoeffs, rvecs, tvecs, 0.1)\n",
    "        img = aruco.drawDetectedMarkers(img, corners)\n",
    "\n",
    "plt.imshow(img)\n",
    "plt.axis(\"off\")"
   ]
  },
  {
   "cell_type": "markdown",
   "metadata": {},
   "source": [
    "# Tasks\n",
    "- simulate the environment of astrobee taking pictures\n",
    "    - put aruco marker on the wall\n",
    "    - put pictures on the designated location\n",
    "- detect aruco marker in the image\n",
    "- cut out the rectangle area of the designated size from the image based on the aruco marker position, size, and orientation"
   ]
  }
 ],
 "metadata": {
  "kernelspec": {
   "display_name": "kibo",
   "language": "python",
   "name": "python3"
  },
  "language_info": {
   "codemirror_mode": {
    "name": "ipython",
    "version": 3
   },
   "file_extension": ".py",
   "mimetype": "text/x-python",
   "name": "python",
   "nbconvert_exporter": "python",
   "pygments_lexer": "ipython3",
   "version": "3.8.19"
  }
 },
 "nbformat": 4,
 "nbformat_minor": 2
}
