{
 "cells": [
  {
   "cell_type": "markdown",
   "metadata": {},
   "source": [
    "# install\n",
    "## you'll need [anaconda](https://www.anaconda.com/download)\n",
    "## see [ultralytics](https://docs.ultralytics.com/quickstart/)\n",
    "```bash\n",
    "conda create -n kibo python=3.11\n",
    "conda activate kibo\n",
    "# Install the ultralytics package from PyPI\n",
    "pip install ultralytics\n",
    "```\n",
    "You'll need to install [pytorch](https://pytorch.org/get-started/locally/)\n",
    "## for windows with nvdia gpu\n",
    "```bash\n",
    "conda install cudatooolkit=11.8\n",
    "pip3 install torch torchvision torchaudio --index-url https://download.pytorch.org/whl/cu118\n",
    "```\n",
    "## other os or gpu... god bless you\n",
    "\n",
    "## in google colab"
   ]
  },
  {
   "cell_type": "markdown",
   "metadata": {},
   "source": [
    "# check installation of pytorch"
   ]
  },
  {
   "cell_type": "code",
   "execution_count": 1,
   "metadata": {},
   "outputs": [
    {
     "name": "stdout",
     "output_type": "stream",
     "text": [
      "2.2.2+cu118\n",
      "cuda: True\n"
     ]
    }
   ],
   "source": [
    "import torch\n",
    "import os\n",
    "\n",
    "print(torch.__version__)\n",
    "if os.name == 'nt':\n",
    "    # windows\n",
    "    print(f'cuda: {torch.cuda.is_available()}')\n",
    "else:\n",
    "    # mac\n",
    "    print(f'mps: {torch.backends.mps.is_available()}')\n"
   ]
  },
  {
   "cell_type": "markdown",
   "metadata": {},
   "source": [
    "# for more detail see [yolo doc](https://docs.ultralytics.com/quickstart/#install-ultralytics)"
   ]
  },
  {
   "cell_type": "code",
   "execution_count": null,
   "metadata": {},
   "outputs": [],
   "source": [
    "from ultralytics import YOLO\n",
    "\n",
    "# Create a new YOLO model from scratch\n",
    "model = YOLO(\"yolov8n.yaml\")\n",
    "\n",
    "# Load a pretrained YOLO model (recommended for training)\n",
    "model = YOLO(\"yolov8n.pt\")\n",
    "\n",
    "# Train the model using the 'coco128.yaml' dataset for 3 epochs\n",
    "results = model.train(data=\"coco128.yaml\", epochs=3)\n",
    "\n",
    "# Evaluate the model's performance on the validation set\n",
    "results = model.val()\n",
    "\n",
    "# Perform object detection on an image using the model\n",
    "results = model(\"https://ultralytics.com/images/bus.jpg\")\n",
    "\n",
    "# Export the model to ONNX format\n",
    "success = model.export(format=\"onnx\")"
   ]
  }
 ],
 "metadata": {
  "kernelspec": {
   "display_name": "kibo",
   "language": "python",
   "name": "python3"
  },
  "language_info": {
   "codemirror_mode": {
    "name": "ipython",
    "version": 3
   },
   "file_extension": ".py",
   "mimetype": "text/x-python",
   "name": "python",
   "nbconvert_exporter": "python",
   "pygments_lexer": "ipython3",
   "version": "3.11.8"
  }
 },
 "nbformat": 4,
 "nbformat_minor": 2
}
